{
 "cells": [
  {
   "cell_type": "markdown",
   "id": "c30d4b8e",
   "metadata": {},
   "source": [
    "# SELEÇÃO FEMININA DE VÔLEI DO BRASIL\n",
    "\n",
    "[Convocadas do Brasil - Paris 2024](https://en.volleyballworld.com/volleyball/competitions/volleyball-olympic-games-paris-2024/teams/women/6619/players/)\n",
    "\n",
    "No período de 26/08/2024 a 11/08/2024 teremos os Jogos Olímpicos de Paris 2024. Este estudo tem como objetivo apresentar algumas características da seleção feminina de vôlei, analisando aspectos como a média de altura das jogadoras por posição, a experiência anterior em Olimpíadas, e outras métricas que podem influenciar o desempenho da equipe."
   ]
  },
  {
   "cell_type": "markdown",
   "id": "9448acde",
   "metadata": {},
   "source": [
    "<img src=\"sfv.jpg\" width=\"500px\" style=\"float: centert;\"/>"
   ]
  },
  {
   "cell_type": "markdown",
   "id": "75a86dc4",
   "metadata": {},
   "source": [
    "## Índice\n",
    "\n",
    "- [Análise de idade e altura](#Análise-de-idade-e-altura)\n",
    "- [Análise Faixa Etária](#Análise-Faixa-Etária)\n",
    "- [Análise por participação olímpica](#Análise-por-participação-olímpica)\n",
    "- [Tecnologias Usadas](#Tecnologias-Usadas)"
   ]
  },
  {
   "cell_type": "code",
   "execution_count": 1,
   "id": "4afed6a0",
   "metadata": {},
   "outputs": [],
   "source": [
    "#bibliotecas\n",
    "import pandas as pd\n",
    "import numpy as np\n",
    "import matplotlib.pyplot as plt\n",
    "import seaborn as sns"
   ]
  },
  {
   "cell_type": "code",
   "execution_count": 2,
   "id": "ae7052ac",
   "metadata": {},
   "outputs": [
    {
     "data": {
      "text/html": [
       "<div>\n",
       "<style scoped>\n",
       "    .dataframe tbody tr th:only-of-type {\n",
       "        vertical-align: middle;\n",
       "    }\n",
       "\n",
       "    .dataframe tbody tr th {\n",
       "        vertical-align: top;\n",
       "    }\n",
       "\n",
       "    .dataframe thead th {\n",
       "        text-align: right;\n",
       "    }\n",
       "</style>\n",
       "<table border=\"1\" class=\"dataframe\">\n",
       "  <thead>\n",
       "    <tr style=\"text-align: right;\">\n",
       "      <th></th>\n",
       "      <th>Nº</th>\n",
       "      <th>Nome</th>\n",
       "      <th>Posição</th>\n",
       "      <th>Altura</th>\n",
       "      <th>Ano Nasc</th>\n",
       "      <th>Idade</th>\n",
       "      <th>Participação Olimpíadas</th>\n",
       "    </tr>\n",
       "  </thead>\n",
       "  <tbody>\n",
       "    <tr>\n",
       "      <th>0</th>\n",
       "      <td>1</td>\n",
       "      <td>Nyeme</td>\n",
       "      <td>Líbero</td>\n",
       "      <td>1.75</td>\n",
       "      <td>1998</td>\n",
       "      <td>25</td>\n",
       "      <td>Estreante</td>\n",
       "    </tr>\n",
       "    <tr>\n",
       "      <th>1</th>\n",
       "      <td>2</td>\n",
       "      <td>Diana</td>\n",
       "      <td>Central</td>\n",
       "      <td>1.94</td>\n",
       "      <td>1999</td>\n",
       "      <td>25</td>\n",
       "      <td>Estreante</td>\n",
       "    </tr>\n",
       "    <tr>\n",
       "      <th>2</th>\n",
       "      <td>3</td>\n",
       "      <td>Macris</td>\n",
       "      <td>Levantadora</td>\n",
       "      <td>1.78</td>\n",
       "      <td>1989</td>\n",
       "      <td>35</td>\n",
       "      <td>1</td>\n",
       "    </tr>\n",
       "    <tr>\n",
       "      <th>3</th>\n",
       "      <td>6</td>\n",
       "      <td>Thaisa</td>\n",
       "      <td>Central</td>\n",
       "      <td>1.96</td>\n",
       "      <td>1987</td>\n",
       "      <td>37</td>\n",
       "      <td>3</td>\n",
       "    </tr>\n",
       "    <tr>\n",
       "      <th>4</th>\n",
       "      <td>7</td>\n",
       "      <td>Rosamaria</td>\n",
       "      <td>Oposta</td>\n",
       "      <td>1.85</td>\n",
       "      <td>1994</td>\n",
       "      <td>30</td>\n",
       "      <td>1</td>\n",
       "    </tr>\n",
       "    <tr>\n",
       "      <th>5</th>\n",
       "      <td>9</td>\n",
       "      <td>Roberta</td>\n",
       "      <td>Levantadora</td>\n",
       "      <td>1.85</td>\n",
       "      <td>1990</td>\n",
       "      <td>34</td>\n",
       "      <td>1</td>\n",
       "    </tr>\n",
       "    <tr>\n",
       "      <th>6</th>\n",
       "      <td>10</td>\n",
       "      <td>Gabriela Guimarães</td>\n",
       "      <td>Ponteira</td>\n",
       "      <td>1.80</td>\n",
       "      <td>1994</td>\n",
       "      <td>30</td>\n",
       "      <td>2</td>\n",
       "    </tr>\n",
       "    <tr>\n",
       "      <th>7</th>\n",
       "      <td>12</td>\n",
       "      <td>Ana Cristina</td>\n",
       "      <td>Ponteira</td>\n",
       "      <td>1.92</td>\n",
       "      <td>2004</td>\n",
       "      <td>20</td>\n",
       "      <td>1</td>\n",
       "    </tr>\n",
       "    <tr>\n",
       "      <th>8</th>\n",
       "      <td>15</td>\n",
       "      <td>Carol Silva</td>\n",
       "      <td>Central</td>\n",
       "      <td>1.83</td>\n",
       "      <td>1991</td>\n",
       "      <td>33</td>\n",
       "      <td>1</td>\n",
       "    </tr>\n",
       "    <tr>\n",
       "      <th>9</th>\n",
       "      <td>17</td>\n",
       "      <td>Júlia Bergmann</td>\n",
       "      <td>Ponteira</td>\n",
       "      <td>1.91</td>\n",
       "      <td>2001</td>\n",
       "      <td>23</td>\n",
       "      <td>Estreante</td>\n",
       "    </tr>\n",
       "    <tr>\n",
       "      <th>10</th>\n",
       "      <td>19</td>\n",
       "      <td>Tainara</td>\n",
       "      <td>Oposta</td>\n",
       "      <td>1.90</td>\n",
       "      <td>2000</td>\n",
       "      <td>24</td>\n",
       "      <td>Estreante</td>\n",
       "    </tr>\n",
       "    <tr>\n",
       "      <th>11</th>\n",
       "      <td>24</td>\n",
       "      <td>Lorenne</td>\n",
       "      <td>Oposta</td>\n",
       "      <td>1.87</td>\n",
       "      <td>1996</td>\n",
       "      <td>28</td>\n",
       "      <td>Estreante</td>\n",
       "    </tr>\n",
       "    <tr>\n",
       "      <th>12</th>\n",
       "      <td>14</td>\n",
       "      <td>Natinha</td>\n",
       "      <td>Líbero</td>\n",
       "      <td>1.62</td>\n",
       "      <td>1997</td>\n",
       "      <td>27</td>\n",
       "      <td>Estreante</td>\n",
       "    </tr>\n",
       "  </tbody>\n",
       "</table>\n",
       "</div>"
      ],
      "text/plain": [
       "    Nº                Nome      Posição  Altura  Ano Nasc  Idade  \\\n",
       "0    1               Nyeme       Líbero    1.75      1998     25   \n",
       "1    2               Diana      Central    1.94      1999     25   \n",
       "2    3              Macris  Levantadora    1.78      1989     35   \n",
       "3    6              Thaisa      Central    1.96      1987     37   \n",
       "4    7           Rosamaria       Oposta    1.85      1994     30   \n",
       "5    9             Roberta  Levantadora    1.85      1990     34   \n",
       "6   10  Gabriela Guimarães     Ponteira    1.80      1994     30   \n",
       "7   12        Ana Cristina     Ponteira    1.92      2004     20   \n",
       "8   15         Carol Silva      Central    1.83      1991     33   \n",
       "9   17      Júlia Bergmann     Ponteira    1.91      2001     23   \n",
       "10  19             Tainara       Oposta    1.90      2000     24   \n",
       "11  24             Lorenne       Oposta    1.87      1996     28   \n",
       "12  14             Natinha       Líbero    1.62      1997     27   \n",
       "\n",
       "   Participação Olimpíadas  \n",
       "0                Estreante  \n",
       "1                Estreante  \n",
       "2                        1  \n",
       "3                        3  \n",
       "4                        1  \n",
       "5                        1  \n",
       "6                        2  \n",
       "7                        1  \n",
       "8                        1  \n",
       "9                Estreante  \n",
       "10               Estreante  \n",
       "11               Estreante  \n",
       "12               Estreante  "
      ]
     },
     "metadata": {},
     "output_type": "display_data"
    }
   ],
   "source": [
    "og_24 = pd.read_csv(r'olimpiadas2024.csv',sep= ',',encoding='utf-8')\n",
    "display(og_24)"
   ]
  },
  {
   "cell_type": "code",
   "execution_count": 3,
   "id": "ad4eaafa",
   "metadata": {},
   "outputs": [
    {
     "name": "stdout",
     "output_type": "stream",
     "text": [
      "<class 'pandas.core.frame.DataFrame'>\n",
      "RangeIndex: 13 entries, 0 to 12\n",
      "Data columns (total 7 columns):\n",
      " #   Column                   Non-Null Count  Dtype  \n",
      "---  ------                   --------------  -----  \n",
      " 0   Nº                       13 non-null     int64  \n",
      " 1   Nome                     13 non-null     object \n",
      " 2   Posição                  13 non-null     object \n",
      " 3   Altura                   13 non-null     float64\n",
      " 4   Ano Nasc                 13 non-null     int64  \n",
      " 5   Idade                    13 non-null     int64  \n",
      " 6   Participação Olimpíadas  13 non-null     object \n",
      "dtypes: float64(1), int64(3), object(3)\n",
      "memory usage: 860.0+ bytes\n"
     ]
    }
   ],
   "source": [
    "#infos\n",
    "og_24.info()"
   ]
  },
  {
   "cell_type": "code",
   "execution_count": 4,
   "id": "eea095a8",
   "metadata": {},
   "outputs": [],
   "source": [
    "#remover espaço das colunas\n",
    "og_24.columns = og_24.columns.str.lstrip()\n",
    "og_24.columns = og_24.columns.str.replace(' ', '')"
   ]
  },
  {
   "cell_type": "code",
   "execution_count": 5,
   "id": "56ccaf14",
   "metadata": {},
   "outputs": [],
   "source": [
    "#converter a coluna nº para valor objeto, pois não entrará para uma análise estatística\n",
    "og_24[['Nº']]=og_24[['Nº']].astype(object)"
   ]
  },
  {
   "cell_type": "code",
   "execution_count": 6,
   "id": "76e65375",
   "metadata": {},
   "outputs": [
    {
     "data": {
      "text/html": [
       "<div>\n",
       "<style scoped>\n",
       "    .dataframe tbody tr th:only-of-type {\n",
       "        vertical-align: middle;\n",
       "    }\n",
       "\n",
       "    .dataframe tbody tr th {\n",
       "        vertical-align: top;\n",
       "    }\n",
       "\n",
       "    .dataframe thead th {\n",
       "        text-align: right;\n",
       "    }\n",
       "</style>\n",
       "<table border=\"1\" class=\"dataframe\">\n",
       "  <thead>\n",
       "    <tr style=\"text-align: right;\">\n",
       "      <th></th>\n",
       "      <th>Altura</th>\n",
       "      <th>AnoNasc</th>\n",
       "      <th>Idade</th>\n",
       "    </tr>\n",
       "  </thead>\n",
       "  <tbody>\n",
       "    <tr>\n",
       "      <th>count</th>\n",
       "      <td>13.000000</td>\n",
       "      <td>13.000000</td>\n",
       "      <td>13.000000</td>\n",
       "    </tr>\n",
       "    <tr>\n",
       "      <th>mean</th>\n",
       "      <td>1.844615</td>\n",
       "      <td>1995.384615</td>\n",
       "      <td>28.538462</td>\n",
       "    </tr>\n",
       "    <tr>\n",
       "      <th>std</th>\n",
       "      <td>0.092161</td>\n",
       "      <td>5.107812</td>\n",
       "      <td>5.157767</td>\n",
       "    </tr>\n",
       "    <tr>\n",
       "      <th>min</th>\n",
       "      <td>1.620000</td>\n",
       "      <td>1987.000000</td>\n",
       "      <td>20.000000</td>\n",
       "    </tr>\n",
       "    <tr>\n",
       "      <th>25%</th>\n",
       "      <td>1.800000</td>\n",
       "      <td>1991.000000</td>\n",
       "      <td>25.000000</td>\n",
       "    </tr>\n",
       "    <tr>\n",
       "      <th>50%</th>\n",
       "      <td>1.850000</td>\n",
       "      <td>1996.000000</td>\n",
       "      <td>28.000000</td>\n",
       "    </tr>\n",
       "    <tr>\n",
       "      <th>75%</th>\n",
       "      <td>1.910000</td>\n",
       "      <td>1999.000000</td>\n",
       "      <td>33.000000</td>\n",
       "    </tr>\n",
       "    <tr>\n",
       "      <th>max</th>\n",
       "      <td>1.960000</td>\n",
       "      <td>2004.000000</td>\n",
       "      <td>37.000000</td>\n",
       "    </tr>\n",
       "  </tbody>\n",
       "</table>\n",
       "</div>"
      ],
      "text/plain": [
       "          Altura      AnoNasc      Idade\n",
       "count  13.000000    13.000000  13.000000\n",
       "mean    1.844615  1995.384615  28.538462\n",
       "std     0.092161     5.107812   5.157767\n",
       "min     1.620000  1987.000000  20.000000\n",
       "25%     1.800000  1991.000000  25.000000\n",
       "50%     1.850000  1996.000000  28.000000\n",
       "75%     1.910000  1999.000000  33.000000\n",
       "max     1.960000  2004.000000  37.000000"
      ]
     },
     "execution_count": 6,
     "metadata": {},
     "output_type": "execute_result"
    }
   ],
   "source": [
    "#Estatística do DF\n",
    "og_24.describe()"
   ]
  },
  {
   "cell_type": "markdown",
   "id": "f396e48d",
   "metadata": {},
   "source": [
    "## Análise de idade e altura"
   ]
  },
  {
   "cell_type": "code",
   "execution_count": 7,
   "id": "77cdc1c1",
   "metadata": {},
   "outputs": [
    {
     "data": {
      "image/png": "[encoded data removed]",
      "text/plain": [
       "<Figure size 640x480 with 1 Axes>"
      ]
     },
     "metadata": {},
     "output_type": "display_data"
    },
    {
     "data": {
      "image/png": "[encoded data removed]",
      "text/plain": [
       "<Figure size 640x480 with 1 Axes>"
      ]
     },
     "metadata": {},
     "output_type": "display_data"
    }
   ],
   "source": [
    "#Gráficos com a distribuição de idade e altura\n",
    "sns.set(style='darkgrid')  #Estilo do gráfico\n",
    "\n",
    "idade = og_24['Idade']\n",
    "sns.histplot(data=og_24, x=idade, kde=True, color='DarkBlue').set_title(f\"Distribuição da Variável Idade\", fontsize = 16)\n",
    "plt.show()\n",
    "\n",
    "altura = og_24['Altura']\n",
    "sns.histplot(data=og_24, x=altura, kde=True, color='Blue').set_title(f\"Distribuição da Variável Altura\", fontsize = 16)\n",
    "plt.show()"
   ]
  },
  {
   "cell_type": "code",
   "execution_count": 8,
   "id": "90f54a8d",
   "metadata": {},
   "outputs": [
    {
     "data": {
      "text/plain": [
       "Posição\n",
       "Central        3\n",
       "Oposta         3\n",
       "Ponteira       3\n",
       "Líbero         2\n",
       "Levantadora    2\n",
       "Name: count, dtype: int64"
      ]
     },
     "execution_count": 8,
     "metadata": {},
     "output_type": "execute_result"
    }
   ],
   "source": [
    "#qtde por posição\n",
    "og_24['Posição'].value_counts()"
   ]
  },
  {
   "cell_type": "code",
   "execution_count": 9,
   "id": "285626fc",
   "metadata": {},
   "outputs": [
    {
     "data": {
      "text/plain": [
       "1.84"
      ]
     },
     "execution_count": 9,
     "metadata": {},
     "output_type": "execute_result"
    }
   ],
   "source": [
    "#média de altura\n",
    "round(og_24.Altura.mean(), 2)"
   ]
  },
  {
   "cell_type": "code",
   "execution_count": 10,
   "id": "3344bdcf",
   "metadata": {},
   "outputs": [
    {
     "data": {
      "text/plain": [
       "1.87"
      ]
     },
     "execution_count": 10,
     "metadata": {},
     "output_type": "execute_result"
    }
   ],
   "source": [
    "#média de altura somente atacantes\n",
    "atacantes = og_24.loc[og_24['Posição'] != 'Líbero']\n",
    "round(atacantes.Altura.mean(), 2)"
   ]
  },
  {
   "cell_type": "code",
   "execution_count": 11,
   "id": "7d2ad59f",
   "metadata": {},
   "outputs": [
    {
     "data": {
      "text/plain": [
       "1.85"
      ]
     },
     "execution_count": 11,
     "metadata": {},
     "output_type": "execute_result"
    }
   ],
   "source": [
    "#mediana de altura\n",
    "round(og_24.Altura.median(),2)"
   ]
  },
  {
   "cell_type": "code",
   "execution_count": 12,
   "id": "cfd44ac3",
   "metadata": {},
   "outputs": [
    {
     "data": {
      "text/plain": [
       "28.54"
      ]
     },
     "execution_count": 12,
     "metadata": {},
     "output_type": "execute_result"
    }
   ],
   "source": [
    "#média de idade\n",
    "round(og_24.Idade.mean(), 2)"
   ]
  },
  {
   "cell_type": "code",
   "execution_count": 13,
   "id": "c0e5b607",
   "metadata": {},
   "outputs": [
    {
     "data": {
      "text/plain": [
       "28.0"
      ]
     },
     "execution_count": 13,
     "metadata": {},
     "output_type": "execute_result"
    }
   ],
   "source": [
    "#mediana da idade\n",
    "og_24.Idade.median()"
   ]
  },
  {
   "cell_type": "code",
   "execution_count": 14,
   "id": "b207750e",
   "metadata": {},
   "outputs": [
    {
     "data": {
      "text/plain": [
       "Nome\n",
       "Thaisa                37\n",
       "Macris                35\n",
       "Roberta               34\n",
       "Carol Silva           33\n",
       "Gabriela Guimarães    30\n",
       "Rosamaria             30\n",
       "Lorenne               28\n",
       "Natinha               27\n",
       "Diana                 25\n",
       "Nyeme                 25\n",
       "Tainara               24\n",
       "Júlia Bergmann        23\n",
       "Ana Cristina          20\n",
       "Name: Idade, dtype: int64"
      ]
     },
     "execution_count": 14,
     "metadata": {},
     "output_type": "execute_result"
    }
   ],
   "source": [
    "#ordenar por jogadora mais velha\n",
    "og_24.groupby('Nome')['Idade'].max().sort_values(ascending=False)"
   ]
  },
  {
   "cell_type": "code",
   "execution_count": 15,
   "id": "56c79a99",
   "metadata": {},
   "outputs": [
    {
     "data": {
      "text/plain": [
       "Nome\n",
       "Thaisa                1.96\n",
       "Diana                 1.94\n",
       "Ana Cristina          1.92\n",
       "Júlia Bergmann        1.91\n",
       "Tainara               1.90\n",
       "Lorenne               1.87\n",
       "Roberta               1.85\n",
       "Rosamaria             1.85\n",
       "Carol Silva           1.83\n",
       "Gabriela Guimarães    1.80\n",
       "Macris                1.78\n",
       "Nyeme                 1.75\n",
       "Natinha               1.62\n",
       "Name: Altura, dtype: float64"
      ]
     },
     "execution_count": 15,
     "metadata": {},
     "output_type": "execute_result"
    }
   ],
   "source": [
    "#ordenar por jogadora mais alta\n",
    "og_24.groupby('Nome')['Altura'].max().sort_values(ascending=False)"
   ]
  },
  {
   "cell_type": "code",
   "execution_count": 16,
   "id": "32845b65",
   "metadata": {},
   "outputs": [
    {
     "data": {
      "image/png": "[encoded data removed]",
      "text/plain": [
       "<Figure size 640x480 with 1 Axes>"
      ]
     },
     "metadata": {},
     "output_type": "display_data"
    }
   ],
   "source": [
    "#Idade\n",
    "plt.title('Analisando a variação de idade')\n",
    "sns.boxplot(data=og_24, x='Idade');"
   ]
  },
  {
   "cell_type": "code",
   "execution_count": 17,
   "id": "c4e6f2dd",
   "metadata": {},
   "outputs": [
    {
     "data": {
      "image/png": "[encoded data removed]",
      "text/plain": [
       "<Figure size 640x480 with 1 Axes>"
      ]
     },
     "metadata": {},
     "output_type": "display_data"
    }
   ],
   "source": [
    "#Altura\n",
    "plt.title('Analisando a variação de altura')\n",
    "sns.boxplot(data=og_24, x='Altura');"
   ]
  },
  {
   "cell_type": "code",
   "execution_count": 18,
   "id": "a4fcd70e",
   "metadata": {},
   "outputs": [
    {
     "data": {
      "text/plain": [
       "Posição\n",
       "Central        1.91\n",
       "Ponteira       1.88\n",
       "Oposta         1.87\n",
       "Levantadora    1.82\n",
       "Líbero         1.68\n",
       "Name: Altura, dtype: float64"
      ]
     },
     "execution_count": 18,
     "metadata": {},
     "output_type": "execute_result"
    }
   ],
   "source": [
    "#média de altura por posição\n",
    "og_24.groupby('Posição')['Altura'].mean().sort_values(ascending=False).round(2)"
   ]
  },
  {
   "cell_type": "code",
   "execution_count": 19,
   "id": "41e9a7af",
   "metadata": {},
   "outputs": [
    {
     "data": {
      "text/plain": [
       "Text(0.5, 1.0, 'Média de altura por posição')"
      ]
     },
     "execution_count": 19,
     "metadata": {},
     "output_type": "execute_result"
    },
    {
     "data": {
      "image/png": "[encoded data removed]",
      "text/plain": [
       "<Figure size 640x480 with 1 Axes>"
      ]
     },
     "metadata": {},
     "output_type": "display_data"
    }
   ],
   "source": [
    "#Visualização gráfica\n",
    "og_24.groupby('Posição')['Altura'].mean()\n",
    "media_altura = sns.barplot(x='Posição', y='Altura', data=og_24, errorbar=None)\n",
    "media_altura.set_ylim(1.65, 1.95)\n",
    "media_altura.set_title('Média de altura por posição')"
   ]
  },
  {
   "cell_type": "code",
   "execution_count": 20,
   "id": "423c4d93",
   "metadata": {},
   "outputs": [
    {
     "data": {
      "text/plain": [
       "Posição\n",
       "Levantadora    34.50\n",
       "Central        31.67\n",
       "Oposta         27.33\n",
       "Líbero         26.00\n",
       "Ponteira       24.33\n",
       "Name: Idade, dtype: float64"
      ]
     },
     "execution_count": 20,
     "metadata": {},
     "output_type": "execute_result"
    }
   ],
   "source": [
    "#média de idade por posição\n",
    "og_24.groupby('Posição')['Idade'].mean().sort_values(ascending=False).round(2)"
   ]
  },
  {
   "cell_type": "code",
   "execution_count": 21,
   "id": "01bef1c7",
   "metadata": {},
   "outputs": [
    {
     "data": {
      "text/plain": [
       "Text(0.5, 1.0, 'Média de idade por posição')"
      ]
     },
     "execution_count": 21,
     "metadata": {},
     "output_type": "execute_result"
    },
    {
     "data": {
      "image/png": "[encoded data removed]",
      "text/plain": [
       "<Figure size 640x480 with 1 Axes>"
      ]
     },
     "metadata": {},
     "output_type": "display_data"
    }
   ],
   "source": [
    "#Visualização gráfica\n",
    "og_24.groupby('Posição')['Idade'].mean()\n",
    "media_idade = sns.barplot(x='Posição', y='Idade', data=og_24, errorbar=None)\n",
    "media_idade.set_ylim(20,35)\n",
    "media_idade.set_title('Média de idade por posição')"
   ]
  },
  {
   "cell_type": "markdown",
   "id": "c94826c8",
   "metadata": {},
   "source": [
    "## Análise Faixa Etária"
   ]
  },
  {
   "cell_type": "code",
   "execution_count": 22,
   "id": "ee29205c",
   "metadata": {},
   "outputs": [
    {
     "data": {
      "text/html": [
       "<div>\n",
       "<style scoped>\n",
       "    .dataframe tbody tr th:only-of-type {\n",
       "        vertical-align: middle;\n",
       "    }\n",
       "\n",
       "    .dataframe tbody tr th {\n",
       "        vertical-align: top;\n",
       "    }\n",
       "\n",
       "    .dataframe thead th {\n",
       "        text-align: right;\n",
       "    }\n",
       "</style>\n",
       "<table border=\"1\" class=\"dataframe\">\n",
       "  <thead>\n",
       "    <tr style=\"text-align: right;\">\n",
       "      <th></th>\n",
       "      <th>Nº</th>\n",
       "      <th>Nome</th>\n",
       "      <th>Posição</th>\n",
       "      <th>Altura</th>\n",
       "      <th>AnoNasc</th>\n",
       "      <th>Idade</th>\n",
       "      <th>ParticipaçãoOlimpíadas</th>\n",
       "      <th>FaixaEtária</th>\n",
       "    </tr>\n",
       "  </thead>\n",
       "  <tbody>\n",
       "    <tr>\n",
       "      <th>0</th>\n",
       "      <td>1</td>\n",
       "      <td>Nyeme</td>\n",
       "      <td>Líbero</td>\n",
       "      <td>1.75</td>\n",
       "      <td>1998</td>\n",
       "      <td>25</td>\n",
       "      <td>Estreante</td>\n",
       "      <td>Novata</td>\n",
       "    </tr>\n",
       "    <tr>\n",
       "      <th>1</th>\n",
       "      <td>2</td>\n",
       "      <td>Diana</td>\n",
       "      <td>Central</td>\n",
       "      <td>1.94</td>\n",
       "      <td>1999</td>\n",
       "      <td>25</td>\n",
       "      <td>Estreante</td>\n",
       "      <td>Novata</td>\n",
       "    </tr>\n",
       "    <tr>\n",
       "      <th>2</th>\n",
       "      <td>3</td>\n",
       "      <td>Macris</td>\n",
       "      <td>Levantadora</td>\n",
       "      <td>1.78</td>\n",
       "      <td>1989</td>\n",
       "      <td>35</td>\n",
       "      <td>1</td>\n",
       "      <td>Veterana</td>\n",
       "    </tr>\n",
       "    <tr>\n",
       "      <th>3</th>\n",
       "      <td>6</td>\n",
       "      <td>Thaisa</td>\n",
       "      <td>Central</td>\n",
       "      <td>1.96</td>\n",
       "      <td>1987</td>\n",
       "      <td>37</td>\n",
       "      <td>3</td>\n",
       "      <td>Veterana</td>\n",
       "    </tr>\n",
       "    <tr>\n",
       "      <th>4</th>\n",
       "      <td>7</td>\n",
       "      <td>Rosamaria</td>\n",
       "      <td>Oposta</td>\n",
       "      <td>1.85</td>\n",
       "      <td>1994</td>\n",
       "      <td>30</td>\n",
       "      <td>1</td>\n",
       "      <td>Experiente</td>\n",
       "    </tr>\n",
       "    <tr>\n",
       "      <th>5</th>\n",
       "      <td>9</td>\n",
       "      <td>Roberta</td>\n",
       "      <td>Levantadora</td>\n",
       "      <td>1.85</td>\n",
       "      <td>1990</td>\n",
       "      <td>34</td>\n",
       "      <td>1</td>\n",
       "      <td>Veterana</td>\n",
       "    </tr>\n",
       "    <tr>\n",
       "      <th>6</th>\n",
       "      <td>10</td>\n",
       "      <td>Gabriela Guimarães</td>\n",
       "      <td>Ponteira</td>\n",
       "      <td>1.80</td>\n",
       "      <td>1994</td>\n",
       "      <td>30</td>\n",
       "      <td>2</td>\n",
       "      <td>Experiente</td>\n",
       "    </tr>\n",
       "    <tr>\n",
       "      <th>7</th>\n",
       "      <td>12</td>\n",
       "      <td>Ana Cristina</td>\n",
       "      <td>Ponteira</td>\n",
       "      <td>1.92</td>\n",
       "      <td>2004</td>\n",
       "      <td>20</td>\n",
       "      <td>1</td>\n",
       "      <td>Novata</td>\n",
       "    </tr>\n",
       "    <tr>\n",
       "      <th>8</th>\n",
       "      <td>15</td>\n",
       "      <td>Carol Silva</td>\n",
       "      <td>Central</td>\n",
       "      <td>1.83</td>\n",
       "      <td>1991</td>\n",
       "      <td>33</td>\n",
       "      <td>1</td>\n",
       "      <td>Experiente</td>\n",
       "    </tr>\n",
       "    <tr>\n",
       "      <th>9</th>\n",
       "      <td>17</td>\n",
       "      <td>Júlia Bergmann</td>\n",
       "      <td>Ponteira</td>\n",
       "      <td>1.91</td>\n",
       "      <td>2001</td>\n",
       "      <td>23</td>\n",
       "      <td>Estreante</td>\n",
       "      <td>Novata</td>\n",
       "    </tr>\n",
       "    <tr>\n",
       "      <th>10</th>\n",
       "      <td>19</td>\n",
       "      <td>Tainara</td>\n",
       "      <td>Oposta</td>\n",
       "      <td>1.90</td>\n",
       "      <td>2000</td>\n",
       "      <td>24</td>\n",
       "      <td>Estreante</td>\n",
       "      <td>Novata</td>\n",
       "    </tr>\n",
       "    <tr>\n",
       "      <th>11</th>\n",
       "      <td>24</td>\n",
       "      <td>Lorenne</td>\n",
       "      <td>Oposta</td>\n",
       "      <td>1.87</td>\n",
       "      <td>1996</td>\n",
       "      <td>28</td>\n",
       "      <td>Estreante</td>\n",
       "      <td>Experiente</td>\n",
       "    </tr>\n",
       "    <tr>\n",
       "      <th>12</th>\n",
       "      <td>14</td>\n",
       "      <td>Natinha</td>\n",
       "      <td>Líbero</td>\n",
       "      <td>1.62</td>\n",
       "      <td>1997</td>\n",
       "      <td>27</td>\n",
       "      <td>Estreante</td>\n",
       "      <td>Experiente</td>\n",
       "    </tr>\n",
       "  </tbody>\n",
       "</table>\n",
       "</div>"
      ],
      "text/plain": [
       "    Nº                Nome      Posição  Altura  AnoNasc  Idade  \\\n",
       "0    1               Nyeme       Líbero    1.75     1998     25   \n",
       "1    2               Diana      Central    1.94     1999     25   \n",
       "2    3              Macris  Levantadora    1.78     1989     35   \n",
       "3    6              Thaisa      Central    1.96     1987     37   \n",
       "4    7           Rosamaria       Oposta    1.85     1994     30   \n",
       "5    9             Roberta  Levantadora    1.85     1990     34   \n",
       "6   10  Gabriela Guimarães     Ponteira    1.80     1994     30   \n",
       "7   12        Ana Cristina     Ponteira    1.92     2004     20   \n",
       "8   15         Carol Silva      Central    1.83     1991     33   \n",
       "9   17      Júlia Bergmann     Ponteira    1.91     2001     23   \n",
       "10  19             Tainara       Oposta    1.90     2000     24   \n",
       "11  24             Lorenne       Oposta    1.87     1996     28   \n",
       "12  14             Natinha       Líbero    1.62     1997     27   \n",
       "\n",
       "   ParticipaçãoOlimpíadas FaixaEtária  \n",
       "0               Estreante      Novata  \n",
       "1               Estreante      Novata  \n",
       "2                       1    Veterana  \n",
       "3                       3    Veterana  \n",
       "4                       1  Experiente  \n",
       "5                       1    Veterana  \n",
       "6                       2  Experiente  \n",
       "7                       1      Novata  \n",
       "8                       1  Experiente  \n",
       "9               Estreante      Novata  \n",
       "10              Estreante      Novata  \n",
       "11              Estreante  Experiente  \n",
       "12              Estreante  Experiente  "
      ]
     },
     "execution_count": 22,
     "metadata": {},
     "output_type": "execute_result"
    }
   ],
   "source": [
    "#criando coluna para mostrar novatas, experientes e veteranas (novatas <= 25, veteranas =>34)\n",
    "import sys\n",
    "\n",
    "og_24['FaixaEtária']=pd.cut(\n",
    "    og_24['Idade'],\n",
    "    bins=[0, 25, 33, sys.maxsize],\n",
    "    labels=['Novata', 'Experiente', 'Veterana']\n",
    "\n",
    ")\n",
    "og_24"
   ]
  },
  {
   "cell_type": "code",
   "execution_count": 23,
   "id": "f6db18f3",
   "metadata": {},
   "outputs": [
    {
     "data": {
      "text/plain": [
       "FaixaEtária\n",
       "Novata        5\n",
       "Experiente    5\n",
       "Veterana      3\n",
       "Name: count, dtype: int64"
      ]
     },
     "execution_count": 23,
     "metadata": {},
     "output_type": "execute_result"
    }
   ],
   "source": [
    "#Qtde por faixa etária\n",
    "og_24['FaixaEtária'].value_counts()"
   ]
  },
  {
   "cell_type": "code",
   "execution_count": 24,
   "id": "2df363b1",
   "metadata": {},
   "outputs": [
    {
     "data": {
      "text/plain": [
       "Posição      FaixaEtária\n",
       "Central      Novata         1\n",
       "             Experiente     1\n",
       "             Veterana       1\n",
       "Levantadora  Veterana       2\n",
       "             Novata         0\n",
       "             Experiente     0\n",
       "Líbero       Novata         1\n",
       "             Experiente     1\n",
       "             Veterana       0\n",
       "Oposta       Experiente     2\n",
       "             Novata         1\n",
       "             Veterana       0\n",
       "Ponteira     Novata         2\n",
       "             Experiente     1\n",
       "             Veterana       0\n",
       "Name: count, dtype: int64"
      ]
     },
     "execution_count": 24,
     "metadata": {},
     "output_type": "execute_result"
    }
   ],
   "source": [
    "#Faixa etária por posição\n",
    "og_24.groupby('Posição')['FaixaEtária'].value_counts()"
   ]
  },
  {
   "cell_type": "code",
   "execution_count": 25,
   "id": "b45f7a49",
   "metadata": {},
   "outputs": [
    {
     "data": {
      "image/png": "[encoded data removed]",
      "text/plain": [
       "<Figure size 640x480 with 1 Axes>"
      ]
     },
     "metadata": {},
     "output_type": "display_data"
    }
   ],
   "source": [
    "#Visualização gráfica\n",
    "og_24['FaixaEtária'].value_counts().plot(kind='pie',autopct='%1.1f%%',startangle=90)\n",
    "plt.legend(og_24['FaixaEtária'].value_counts(), title=\"Qtde em nº\",  bbox_to_anchor=(1, 1))\n",
    "plt.axis('equal')\n",
    "plt.tight_layout()"
   ]
  },
  {
   "cell_type": "markdown",
   "id": "b477412d",
   "metadata": {},
   "source": [
    "## Análise por participação olímpica"
   ]
  },
  {
   "cell_type": "code",
   "execution_count": 26,
   "id": "aa9a3077",
   "metadata": {},
   "outputs": [
    {
     "data": {
      "text/plain": [
       "FaixaEtária  ParticipaçãoOlimpíadas\n",
       "Novata       Estreante                 4\n",
       "             1                         1\n",
       "             2                         0\n",
       "             3                         0\n",
       "Experiente   1                         2\n",
       "             Estreante                 2\n",
       "             2                         1\n",
       "             3                         0\n",
       "Veterana     1                         2\n",
       "             3                         1\n",
       "             2                         0\n",
       "             Estreante                 0\n",
       "Name: count, dtype: int64"
      ]
     },
     "execution_count": 26,
     "metadata": {},
     "output_type": "execute_result"
    }
   ],
   "source": [
    "#Relação entre faixa etária e particpações em olimpiadas\n",
    "og_24.groupby('FaixaEtária')['ParticipaçãoOlimpíadas'].value_counts()"
   ]
  },
  {
   "cell_type": "code",
   "execution_count": 27,
   "id": "33c7e9b7",
   "metadata": {},
   "outputs": [
    {
     "name": "stdout",
     "output_type": "stream",
     "text": [
      "ParticipaçãoOlimpíadas\n",
      "Estreante    6\n",
      "1            5\n",
      "3            1\n",
      "2            1\n",
      "Name: count, dtype: int64\n"
     ]
    }
   ],
   "source": [
    "#particapações em olimpiadas\n",
    "part_og = og_24['ParticipaçãoOlimpíadas'].value_counts()\n",
    "print(part_og)"
   ]
  },
  {
   "cell_type": "code",
   "execution_count": 28,
   "id": "e71ac7f6",
   "metadata": {},
   "outputs": [
    {
     "data": {
      "text/plain": [
       "0          Estreante\n",
       "1          Estreante\n",
       "2     Com Partipação\n",
       "3     Com Partipação\n",
       "4     Com Partipação\n",
       "5     Com Partipação\n",
       "6     Com Partipação\n",
       "7     Com Partipação\n",
       "8     Com Partipação\n",
       "9          Estreante\n",
       "10         Estreante\n",
       "11         Estreante\n",
       "12         Estreante\n",
       "Name: ParticipaçãoOlimpíadas, dtype: object"
      ]
     },
     "execution_count": 28,
     "metadata": {},
     "output_type": "execute_result"
    }
   ],
   "source": [
    "#Substituir os valores numéricos por \"Com Partipação\"\n",
    "part_og = og_24['ParticipaçãoOlimpíadas'].apply(lambda x: 'Com Partipação' if x != 'Estreante' else x)\n",
    "part_og"
   ]
  },
  {
   "cell_type": "code",
   "execution_count": 29,
   "id": "f4570e20",
   "metadata": {},
   "outputs": [
    {
     "data": {
      "text/plain": [
       "ParticipaçãoOlimpíadas\n",
       "Com Partipação    7\n",
       "Estreante         6\n",
       "Name: count, dtype: int64"
      ]
     },
     "execution_count": 29,
     "metadata": {},
     "output_type": "execute_result"
    }
   ],
   "source": [
    "part_og.value_counts()"
   ]
  },
  {
   "cell_type": "code",
   "execution_count": 30,
   "id": "8f31c6ab",
   "metadata": {},
   "outputs": [
    {
     "data": {
      "image/png": "[encoded data removed]",
      "text/plain": [
       "<Figure size 640x480 with 1 Axes>"
      ]
     },
     "metadata": {},
     "output_type": "display_data"
    }
   ],
   "source": [
    "#Visualização gráfica\n",
    "colors = ['#008000', '#ffff00']\n",
    "part_og.value_counts().plot(kind='pie',autopct='%1.1f%%',startangle=180,colors=colors)\n",
    "centre_circle = plt.Circle((0, 0), 0.70, fc='white')\n",
    "fig = plt.gcf()\n",
    "fig.gca().add_artist(centre_circle)\n",
    "plt.tight_layout()"
   ]
  },
  {
   "cell_type": "markdown",
   "id": "cf12bf32",
   "metadata": {},
   "source": [
    "## Tecnologias Usadas"
   ]
  },
  {
   "cell_type": "code",
   "execution_count": 31,
   "id": "86527fab",
   "metadata": {},
   "outputs": [
    {
     "name": "stdout",
     "output_type": "stream",
     "text": [
      "Versão da Linguagem Python: 3.11.5\n",
      "Versão do Jupyter Notebook: 5.3.0\n"
     ]
    }
   ],
   "source": [
    "#Versão da Linguagem Python\n",
    "from platform import python_version\n",
    "print('Versão da Linguagem Python:', python_version())\n",
    "\n",
    "#Versão do Jupyter\n",
    "import jupyter_core\n",
    "print('Versão do Jupyter Notebook:',jupyter_core.__version__)"
   ]
  },
  {
   "cell_type": "code",
   "execution_count": 32,
   "id": "56403591",
   "metadata": {},
   "outputs": [
    {
     "name": "stdout",
     "output_type": "stream",
     "text": [
      "Versão Pandas: 2.0.3\n",
      "Versão Numpy: 1.24.3\n",
      "Versão Matplotlib.pyplot: 3.7.2\n",
      "Versão Seaborn: 0.12.2\n"
     ]
    }
   ],
   "source": [
    "import sys\n",
    "\n",
    "#Versão do pandas\n",
    "pandas_version = pd.__version__\n",
    "\n",
    "#Versão do numpy\n",
    "numpy_version = np.__version__\n",
    "\n",
    "#Versão do matplotlib.pyplot\n",
    "plt_version = plt.matplotlib.__version__\n",
    "\n",
    "#Versão do seaborn\n",
    "sns_version = sns.__version__\n",
    "\n",
    "print(f'Versão Pandas: {pandas_version}')\n",
    "print(f'Versão Numpy: {numpy_version}')\n",
    "print(f'Versão Matplotlib.pyplot: {plt_version}')\n",
    "print(f'Versão Seaborn: {sns_version}')"
   ]
  },
  {
   "cell_type": "markdown",
   "id": "b29a3ad9",
   "metadata": {},
   "source": []
  }
 ],
 "metadata": {
  "kernelspec": {
   "display_name": "Python 3 (ipykernel)",
   "language": "python",
   "name": "python3"
  },
  "language_info": {
   "codemirror_mode": {
    "name": "ipython",
    "version": 3
   },
   "file_extension": ".py",
   "mimetype": "text/x-python",
   "name": "python",
   "nbconvert_exporter": "python",
   "pygments_lexer": "ipython3",
   "version": "3.11.5"
  }
 },
 "nbformat": 4,
 "nbformat_minor": 5
}
